{
  "nbformat": 4,
  "nbformat_minor": 0,
  "metadata": {
    "colab": {
      "provenance": []
    },
    "kernelspec": {
      "name": "python3",
      "display_name": "Python 3"
    },
    "language_info": {
      "name": "python"
    }
  },
  "cells": [
    {
      "cell_type": "markdown",
      "source": [
        "#Python Basics Questions\n",
        "**1. What is Python, and why is it popular ?**\n",
        "\n",
        " - Python is high level, interpreted programming language known for it's simplicity and readability.\n",
        "Python is popular because it -\n",
        "- easy to read, right and understand.\n",
        "- it supports multiple doamains(web , data science , ML and etc.)\n",
        "- it has vast libraries."
      ],
      "metadata": {
        "id": "07jtkGe_VwZe"
      }
    },
    {
      "cell_type": "markdown",
      "source": [
        "**2. What is an interpreter in Python?**\n",
        "\n",
        "- Interpreter is a programm that reads our python code line by line and exectes it.Basically you right a code the interpreter understands it and does it right way."
      ],
      "metadata": {
        "id": "8KgSMDoEYHm-"
      }
    },
    {
      "cell_type": "markdown",
      "source": [
        "**3. What are pre-defined keywords in Python ?**\n",
        "\n",
        "- Pre-defined keywords are special words that have fixed meaning in the python language.\n",
        "\n",
        "ex- if, for , else , while ,def , class , etc.\n",
        "\n"
      ],
      "metadata": {
        "id": "wOmzetAZZEim"
      }
    },
    {
      "cell_type": "markdown",
      "source": [
        "**4. Can keywords be used as variable names ?**\n",
        "\n",
        "- No, python keywords cannot be used as variable names."
      ],
      "metadata": {
        "id": "LLJc5j5QZ-5-"
      }
    },
    {
      "cell_type": "markdown",
      "source": [
        "**5 . What is mutability in Python ?**\n",
        "\n",
        "- Mutability refers to something that can be changed after it is written/created.\n",
        "- mutability means you can change it (lists and dictionary)."
      ],
      "metadata": {
        "id": "cq41QxxbZzcu"
      }
    },
    {
      "cell_type": "markdown",
      "source": [
        "**6. Why are lists mutable, but tuples are immutable ?**\n",
        "\n",
        "- List are made because you can change , remove or add something into it on the other hand tuples are fixed.Once you make you can't edit it.That makes it safe and fast for use when you don't want to change the data ."
      ],
      "metadata": {
        "id": "OswVD8EbfgEs"
      }
    },
    {
      "cell_type": "markdown",
      "source": [
        "**7. What is the difference between “==” and “is” operators in Python ?**\n",
        "\n",
        "- == checks if the two things have the same value.\n",
        "\n",
        "- is checks if they're the exact same object in memory.\n"
      ],
      "metadata": {
        "id": "_s03fuJzgPHt"
      }
    },
    {
      "cell_type": "code",
      "source": [
        "#Ex-\n",
        "a = [1,2,3]\n",
        "b = [1,2,3]\n",
        "print(a == b) # True - same content\n",
        "print(a is b) # False - differnet objects"
      ],
      "metadata": {
        "colab": {
          "base_uri": "https://localhost:8080/"
        },
        "id": "8da8f4-ufddH",
        "outputId": "9d2dfb2b-4746-44d4-a326-247eee6f8f68"
      },
      "execution_count": 2,
      "outputs": [
        {
          "output_type": "stream",
          "name": "stdout",
          "text": [
            "True\n",
            "False\n"
          ]
        }
      ]
    },
    {
      "cell_type": "markdown",
      "source": [
        "**.8 What are logical operators in Python ?**\n",
        "\n",
        "- Logical operaters in python are used to combine conditional statemnet.\n",
        "\n",
        "    - They are AND, OR ,NOT.\n",
        "\n",
        "    -  x AND y is true if both x and y are true\n",
        "\n",
        "    - x OR y is true if either x and y is true\n",
        "\n",
        "    - NOT x flips x's value - true becomes false and vice versa."
      ],
      "metadata": {
        "id": "zZMfpR3k0Soj"
      }
    },
    {
      "cell_type": "markdown",
      "source": [
        "**9. What is type casting in Python ?**\n",
        "\n",
        "- Typecasting means converting data from one type to another.\n"
      ],
      "metadata": {
        "id": "tAf2fCcw3A5T"
      }
    },
    {
      "cell_type": "markdown",
      "source": [
        "**10. What is the difference between implicit and explicit type casting?**\n",
        "\n",
        "- Implicit type casting is automatic and safe ( when you add int and float python automatically make the answer as float.)\n",
        "\n",
        "- Explict type casting is done by you ( when you use things like int(), float(), or str() to change the type yourself.)"
      ],
      "metadata": {
        "id": "LLCylvMx3icb"
      }
    },
    {
      "cell_type": "markdown",
      "source": [
        "**11. What is the purpose of conditional statements in Python?**\n",
        "\n",
        "- Conditional statements (if, elif, else) let your program make decisions. They run different blocks of code depending on whether a condition is true or false."
      ],
      "metadata": {
        "id": "B4fMQcXx4d93"
      }
    },
    {
      "cell_type": "markdown",
      "source": [
        "**12.  How does the elif statement work ?**\n",
        "\n",
        "- elif (else-if) is used after an if to test another condition.\n",
        "\n",
        "If the first if is false, Python checks the elif. If that’s false too, it goes to else if it exists."
      ],
      "metadata": {
        "id": "B9lTjzl94x83"
      }
    },
    {
      "cell_type": "markdown",
      "source": [
        "**13. What is the difference between for and while loops ?**\n",
        "\n",
        "- for loop is used when you know the exact number of iteration.\n",
        "\n",
        "- while loop is used when you don't know how many times you'll need to repeat.\n",
        "While loop rums as long as a stament says True."
      ],
      "metadata": {
        "id": "5dgs4MWX5QH7"
      }
    },
    {
      "cell_type": "markdown",
      "source": [
        "**14. Describe a scenario where a while loop is more suitable than a for loop?**\n",
        "\n",
        "- You'd use while when you don't know in advance how many iterations are needed.\n",
        "\n"
      ],
      "metadata": {
        "id": "pkA1JZFz6BY_"
      }
    },
    {
      "cell_type": "markdown",
      "source": [
        "#Practical Questions"
      ],
      "metadata": {
        "id": "0A3cpuGKLAZS"
      }
    },
    {
      "cell_type": "code",
      "source": [
        "# 1. 48 Write a Python program to print \"Hello, World\"\n",
        "print (\"Hello, World\")\n"
      ],
      "metadata": {
        "colab": {
          "base_uri": "https://localhost:8080/"
        },
        "id": "VZUK_csR71kY",
        "outputId": "95a31788-2c51-438b-a5ba-168c8a00d119"
      },
      "execution_count": 4,
      "outputs": [
        {
          "output_type": "stream",
          "name": "stdout",
          "text": [
            "Hello, World\n"
          ]
        }
      ]
    },
    {
      "cell_type": "code",
      "source": [
        "# 2. Write a Python program that displays your name and age?\n",
        "name = \"Mayuresh\"\n",
        "age = 22\n",
        "print (\"My name is :\", name )\n",
        "print (\"My age is :\", age)"
      ],
      "metadata": {
        "colab": {
          "base_uri": "https://localhost:8080/"
        },
        "id": "nAXpRCqV885o",
        "outputId": "5675be2f-86f5-42ce-fc64-052b5c1587d3"
      },
      "execution_count": 8,
      "outputs": [
        {
          "output_type": "stream",
          "name": "stdout",
          "text": [
            "My name is : Mayuresh\n",
            "My age is : 22\n"
          ]
        }
      ]
    },
    {
      "cell_type": "code",
      "source": [
        "# 3. Write code to print all the pre-defined keywords in Python using the keyword library?\n",
        "import keyword\n",
        "print(keyword.kwlist)\n"
      ],
      "metadata": {
        "colab": {
          "base_uri": "https://localhost:8080/"
        },
        "id": "dmjZD5cG9nx_",
        "outputId": "56486197-dbab-4d26-f2fc-4208925caf41"
      },
      "execution_count": 9,
      "outputs": [
        {
          "output_type": "stream",
          "name": "stdout",
          "text": [
            "['False', 'None', 'True', 'and', 'as', 'assert', 'async', 'await', 'break', 'class', 'continue', 'def', 'del', 'elif', 'else', 'except', 'finally', 'for', 'from', 'global', 'if', 'import', 'in', 'is', 'lambda', 'nonlocal', 'not', 'or', 'pass', 'raise', 'return', 'try', 'while', 'with', 'yield']\n"
          ]
        }
      ]
    },
    {
      "cell_type": "code",
      "source": [
        "# 4. Write a program that checks if a given word is a Python keyword.\n",
        "import keyword\n",
        "word = input(\"Enter a word: \")\n",
        "if keyword.iskeyword(word):\n",
        "    print ( word , \":\" ,\"is a Python keyword.\")\n",
        "else:\n",
        "    print ( word , \":\"  , \"is not a Python keyword.\")"
      ],
      "metadata": {
        "colab": {
          "base_uri": "https://localhost:8080/"
        },
        "id": "fDMxA69a9vuA",
        "outputId": "bf2d8a68-9449-4d5c-d264-40fa86096890"
      },
      "execution_count": 19,
      "outputs": [
        {
          "output_type": "stream",
          "name": "stdout",
          "text": [
            "Enter a word: else\n",
            "else : is a Python keyword.\n"
          ]
        }
      ]
    },
    {
      "cell_type": "code",
      "source": [
        "# 5.  Create a list and tuple in Python, and demonstrate how attempting to change an element works differently for each.\n",
        "l = [\"Mayuresh\", 1, 2, 3]\n",
        "l[0] = \"Vedika\"\n",
        "print(l)\n",
        "\n",
        "t = (\"Mayuresh\", 1, 2, 3)\n",
        "t[0] = \"Vedika\"\n",
        "print(t)"
      ],
      "metadata": {
        "colab": {
          "base_uri": "https://localhost:8080/",
          "height": 219
        },
        "id": "B6dehQDm-CR_",
        "outputId": "d1992db5-cfe2-45a1-82ef-b10f678e4f7f"
      },
      "execution_count": 21,
      "outputs": [
        {
          "output_type": "stream",
          "name": "stdout",
          "text": [
            "['Vedika', 1, 2, 3]\n"
          ]
        },
        {
          "output_type": "error",
          "ename": "TypeError",
          "evalue": "'tuple' object does not support item assignment",
          "traceback": [
            "\u001b[0;31m---------------------------------------------------------------------------\u001b[0m",
            "\u001b[0;31mTypeError\u001b[0m                                 Traceback (most recent call last)",
            "\u001b[0;32m<ipython-input-21-7ced6d6ebc11>\u001b[0m in \u001b[0;36m<cell line: 0>\u001b[0;34m()\u001b[0m\n\u001b[1;32m      5\u001b[0m \u001b[0;34m\u001b[0m\u001b[0m\n\u001b[1;32m      6\u001b[0m \u001b[0mt\u001b[0m \u001b[0;34m=\u001b[0m \u001b[0;34m(\u001b[0m\u001b[0;34m\"Mayuresh\"\u001b[0m\u001b[0;34m,\u001b[0m \u001b[0;36m1\u001b[0m\u001b[0;34m,\u001b[0m \u001b[0;36m2\u001b[0m\u001b[0;34m,\u001b[0m \u001b[0;36m3\u001b[0m\u001b[0;34m)\u001b[0m\u001b[0;34m\u001b[0m\u001b[0;34m\u001b[0m\u001b[0m\n\u001b[0;32m----> 7\u001b[0;31m \u001b[0mt\u001b[0m\u001b[0;34m[\u001b[0m\u001b[0;36m0\u001b[0m\u001b[0;34m]\u001b[0m \u001b[0;34m=\u001b[0m \u001b[0;34m\"Vedika\"\u001b[0m\u001b[0;34m\u001b[0m\u001b[0;34m\u001b[0m\u001b[0m\n\u001b[0m\u001b[1;32m      8\u001b[0m \u001b[0mprint\u001b[0m\u001b[0;34m(\u001b[0m\u001b[0mt\u001b[0m\u001b[0;34m)\u001b[0m\u001b[0;34m\u001b[0m\u001b[0;34m\u001b[0m\u001b[0m\n",
            "\u001b[0;31mTypeError\u001b[0m: 'tuple' object does not support item assignment"
          ]
        }
      ]
    },
    {
      "cell_type": "code",
      "source": [
        "# 6.  Write a function to demonstrate the behavior of mutable and immutable arguments?\n",
        "def change_things(num, lst):\n",
        "    num += 10\n",
        "    lst.append(10)\n",
        "\n",
        "my_num = 5\n",
        "my_list = [1, 2, 3]\n",
        "\n",
        "change_things(my_num, my_list)\n",
        "\n",
        "print(\"Number now:\", my_num)       # → still 5 (unchanged)\n",
        "print(\"List now:\", my_list)        # → [1, 2, 3, 10] (changed)"
      ],
      "metadata": {
        "colab": {
          "base_uri": "https://localhost:8080/"
        },
        "id": "ogG1XRfcBFLn",
        "outputId": "341495c2-e6f5-42bc-a815-c5d4b986caf5"
      },
      "execution_count": 22,
      "outputs": [
        {
          "output_type": "stream",
          "name": "stdout",
          "text": [
            "Number now: 5\n",
            "List now: [1, 2, 3, 10]\n"
          ]
        }
      ]
    },
    {
      "cell_type": "code",
      "source": [
        "# 7. Write a program that performs basic arithmetic operations on two user-input numbers.\n",
        "\n",
        "a = float(input(\"Enter first number: \"))\n",
        "b = float(input(\"Enter second number: \"))\n",
        "\n",
        "print(\"Sum:\", a + b)\n",
        "print(\"Difference:\", a - b)\n",
        "print(\"Product:\", a * b)\n",
        "print(\"Division:\", a / b)\n",
        "print(\"Remainder:\", a % b)\n",
        "print(\"Power:\", a ** b)\n",
        "\n"
      ],
      "metadata": {
        "colab": {
          "base_uri": "https://localhost:8080/"
        },
        "id": "Jp3WhUxrBfWo",
        "outputId": "eb9a1506-f231-4948-f689-06d7df121e06"
      },
      "execution_count": 24,
      "outputs": [
        {
          "output_type": "stream",
          "name": "stdout",
          "text": [
            "Enter first number: 1\n",
            "Enter second number: 2\n",
            "Sum: 3.0\n",
            "Difference: -1.0\n",
            "Product: 2.0\n",
            "Division: 0.5\n",
            "Remainder: 1.0\n",
            "Power: 1.0\n"
          ]
        }
      ]
    },
    {
      "cell_type": "code",
      "source": [
        "# 8. Write a program to demonstrate the use of logical operators.\n",
        "\n",
        "a = True\n",
        "b = False\n",
        "\n",
        "print(\"a and b:\", a and b)  # False\n",
        "print(\"a or b:\", a or b)    # True\n",
        "print(\"not a:\", not a)      # False"
      ],
      "metadata": {
        "colab": {
          "base_uri": "https://localhost:8080/"
        },
        "id": "eBJpVH3cDMi_",
        "outputId": "bbf20a21-117e-4094-8fc9-b17174e7c01e"
      },
      "execution_count": 29,
      "outputs": [
        {
          "output_type": "stream",
          "name": "stdout",
          "text": [
            "a and b: False\n",
            "a or b: True\n",
            "not a: False\n"
          ]
        }
      ]
    },
    {
      "cell_type": "code",
      "source": [
        "# 9.  Write a Python program to convert user input from string to integer, float, and boolean types\n",
        "\n",
        "enter = input(\"Enter a number: \")\n",
        "print(int(enter))\n",
        "print(float(enter))\n",
        "print(bool(enter))\n"
      ],
      "metadata": {
        "colab": {
          "base_uri": "https://localhost:8080/"
        },
        "id": "BmGkIsYpDsp4",
        "outputId": "8196ddc4-1d0f-4d14-eb0f-df3a35102cbf"
      },
      "execution_count": 30,
      "outputs": [
        {
          "output_type": "stream",
          "name": "stdout",
          "text": [
            "Enter a number: 2\n",
            "2\n",
            "2.0\n",
            "True\n"
          ]
        }
      ]
    },
    {
      "cell_type": "code",
      "source": [
        "# 10. Write code to demonstrate type casting with list elements.\n",
        "\n",
        "str_list = [\"10\", \"20\", \"30\"]\n",
        "int_list = [int(x) for x in str_list]\n",
        "print(\"New list:\", int_list)"
      ],
      "metadata": {
        "colab": {
          "base_uri": "https://localhost:8080/"
        },
        "id": "_0gk_zY3FAuf",
        "outputId": "4b0ee4c6-b759-4229-ce03-76dc84a61f11"
      },
      "execution_count": 33,
      "outputs": [
        {
          "output_type": "stream",
          "name": "stdout",
          "text": [
            "New list: [10, 20, 30]\n"
          ]
        }
      ]
    },
    {
      "cell_type": "code",
      "source": [
        "# 11. Write a program that checks if a number is positive, negative, or zero.\n",
        "\n",
        "num = float(input(\"Enter a number:\"))\n",
        "if num > 0:\n",
        "  print (\"Positive number\")\n",
        "elif num < 0:\n",
        "  print (\"Negative number\")\n",
        "else:\n",
        "  print (\"Number is zero\")\n"
      ],
      "metadata": {
        "colab": {
          "base_uri": "https://localhost:8080/"
        },
        "id": "6Z5UL-JoFJVv",
        "outputId": "77dfa5f8-7363-4a3e-b624-47f0f596b830"
      },
      "execution_count": 38,
      "outputs": [
        {
          "output_type": "stream",
          "name": "stdout",
          "text": [
            "Enter a number:-1\n",
            "Negative number\n"
          ]
        }
      ]
    },
    {
      "cell_type": "code",
      "source": [
        "# 12. Write a for loop to print numbers from 1 to 10.\n",
        "\n",
        "for i in range(1, 11):\n",
        "    print(i, end=\" \")"
      ],
      "metadata": {
        "colab": {
          "base_uri": "https://localhost:8080/"
        },
        "id": "1hBoCa9hHRdn",
        "outputId": "8b465386-0ace-48ec-c5ce-83c5e7c32f12"
      },
      "execution_count": 41,
      "outputs": [
        {
          "output_type": "stream",
          "name": "stdout",
          "text": [
            "1 2 3 4 5 6 7 8 9 10 "
          ]
        }
      ]
    },
    {
      "cell_type": "code",
      "source": [
        "# 13. Write a Python program to find the sum of all even numbers between 1 and 50.\n",
        "\n",
        "total = 0\n",
        "for i in range(1, 51):\n",
        "    if i % 2 == 0:\n",
        "        total += i\n",
        "print(\"Sum of evens:\", total)"
      ],
      "metadata": {
        "colab": {
          "base_uri": "https://localhost:8080/"
        },
        "id": "MeBKPhogH0kn",
        "outputId": "c4b86f7b-cdf0-4eac-a906-84edc760bfa6"
      },
      "execution_count": 42,
      "outputs": [
        {
          "output_type": "stream",
          "name": "stdout",
          "text": [
            "Sum of evens: 650\n"
          ]
        }
      ]
    },
    {
      "cell_type": "code",
      "source": [
        "# 14. Write a program to reverse a string using a while loop.\n",
        "\n",
        "s = input(\"Enter a string: \")\n",
        "rev = \"\"\n",
        "i = len(s) - 1\n",
        "\n",
        "while i >= 0:\n",
        "    rev += s[i]\n",
        "    i -= 1\n",
        "\n",
        "print(\"Reversed string:\", rev)"
      ],
      "metadata": {
        "colab": {
          "base_uri": "https://localhost:8080/"
        },
        "id": "dvG6ghOuIYbe",
        "outputId": "1f206431-0008-4e4c-ffdf-5735f65c2719"
      },
      "execution_count": 43,
      "outputs": [
        {
          "output_type": "stream",
          "name": "stdout",
          "text": [
            "Enter a string: mayuresh\n",
            "Reversed string: hseruyam\n"
          ]
        }
      ]
    },
    {
      "cell_type": "code",
      "source": [
        "# 15. Write a Python program to calculate the factorial of a number provided by the user using a while loop.\n",
        "\n",
        "n = int(input(\"Enter a number: \"))\n",
        "fact = 1\n",
        "while n > 0:\n",
        "    fact *= n\n",
        "    n -= 1\n",
        "print(\"Factorial is:\", fact)"
      ],
      "metadata": {
        "colab": {
          "base_uri": "https://localhost:8080/"
        },
        "id": "cBO0hvknJCzv",
        "outputId": "5fcf99a8-d320-47f3-dc1d-5f31a4d1d941"
      },
      "execution_count": 47,
      "outputs": [
        {
          "output_type": "stream",
          "name": "stdout",
          "text": [
            "Enter a number: 3\n",
            "Factorial is: 6\n"
          ]
        }
      ]
    },
    {
      "cell_type": "code",
      "source": [],
      "metadata": {
        "id": "qxUIkQD8JUZP"
      },
      "execution_count": 47,
      "outputs": []
    }
  ]
}